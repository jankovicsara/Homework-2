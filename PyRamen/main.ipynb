{
 "cells": [
  {
   "cell_type": "code",
   "execution_count": 58,
   "metadata": {},
   "outputs": [],
   "source": [
    "# Import libraries.\n",
    "\n",
    "import os\n",
    "import csv\n",
    "from pathlib import Path\n",
    "PyRamen_csv = Path(\"sales_data.csv\", \"menu_data.csv\")"
   ]
  },
  {
   "cell_type": "code",
   "execution_count": 59,
   "metadata": {},
   "outputs": [
    {
     "data": {
      "text/plain": [
       "'C:\\\\Users\\\\12242\\\\PyRamen'"
      ]
     },
     "execution_count": 59,
     "metadata": {},
     "output_type": "execute_result"
    }
   ],
   "source": [
    "# Find the path.\n",
    "\n",
    "import os\n",
    "os.getcwd()"
   ]
  },
  {
   "cell_type": "code",
   "execution_count": 60,
   "metadata": {},
   "outputs": [
    {
     "data": {
      "text/plain": [
       "['.ipynb_checkpoints',\n",
       " 'main.ipynb',\n",
       " 'menu_data.csv',\n",
       " 'PyRamen.txt',\n",
       " 'sales_data.csv']"
      ]
     },
     "execution_count": 60,
     "metadata": {},
     "output_type": "execute_result"
    }
   ],
   "source": [
    "os.listdir(os.getcwd())"
   ]
  },
  {
   "cell_type": "code",
   "execution_count": 61,
   "metadata": {},
   "outputs": [],
   "source": [
    "# Initialize paths\n",
    "\n",
    "menu_filepath = Path('C://Users//12242//PyRamen/menu_data.csv')\n",
    "sales_filepath =Path('C://Users//12242//PyRamen/sales_data.csv')"
   ]
  },
  {
   "cell_type": "code",
   "execution_count": 62,
   "metadata": {},
   "outputs": [],
   "source": [
    "# Initialize the variables, dictionaries, and lists. \n",
    "\n",
    "menu = []\n",
    "sales = []\n",
    "report = {}\n",
    "row_count = 0"
   ]
  },
  {
   "cell_type": "code",
   "execution_count": 63,
   "metadata": {},
   "outputs": [],
   "source": [
    "# Read menu data.\n",
    "\n",
    "with open (menu_filepath, \"r\") as csvfile:\n",
    "    csv_reader = csv.reader(csvfile, delimiter = \",\")\n",
    "    header = next(csv_reader)\n",
    "    \n",
    "    for row in csv_reader:\n",
    "        menu.append(row)"
   ]
  },
  {
   "cell_type": "code",
   "execution_count": 64,
   "metadata": {},
   "outputs": [],
   "source": [
    "# Read sales data. \n",
    "\n",
    "with open (sales_filepath, \"r\") as csvfile:\n",
    "    csv_reader = csv.reader(csvfile, delimiter = \",\")\n",
    "    header = next(csv_reader)\n",
    "    \n",
    "    for row in csv_reader:\n",
    "        sales.append(row)"
   ]
  },
  {
   "cell_type": "code",
   "execution_count": 65,
   "metadata": {},
   "outputs": [],
   "source": [
    "for sales_row in sales:\n",
    "    \n",
    "    sales_item = sales_row[4]\n",
    "    quantity = sales_row[3]\n",
    "    \n",
    "    if sales_item not in report:\n",
    "        report[sales_item] = {\"01-count\": 0, \"02-revenue\": 0, \"03-cogs\": 0, \"04-profit\":0}\n",
    "    else:\n",
    "        continue\n",
    "\n",
    "\n",
    "for sales_row in sales:\n",
    "    \n",
    "    sales_item = sales_row[4]\n",
    "    quantity = sales_row[3]\n",
    "    \n",
    "    if sales_item in report:\n",
    "        report[sales_item][\"01-count\"] += int(quantity)\n",
    "    "
   ]
  },
  {
   "cell_type": "code",
   "execution_count": 66,
   "metadata": {},
   "outputs": [],
   "source": [
    "for sales_row in sales:\n",
    "    \n",
    "    sales_item = sales_row[4]\n",
    "    quantity = sales_row[3]\n",
    "    \n",
    "    for menu_row in menu:\n",
    "        menu_item = menu_row[0]\n",
    "        menu_price = menu_row[3]\n",
    "        menu_cost = menu_row[4]\n",
    "        \n",
    "        \n",
    "        if sales_item == menu_item:\n",
    "            report[menu_item][\"02-revenue\"] += (int(menu_price) * int(quantity))\n",
    "            report[menu_item][\"03-cogs\"] += (int(menu_cost) * int(quantity))\n",
    "        elif sales_item != menu_item:\n",
    "            continue"
   ]
  },
  {
   "cell_type": "code",
   "execution_count": 67,
   "metadata": {},
   "outputs": [],
   "source": [
    "for item, valuedict in report.items():\n",
    "     \n",
    "    for key in valuedict:\n",
    "        \n",
    "        cogs = report[item][\"03-cogs\"]\n",
    "        revenue = report[item][\"02-revenue\"]\n",
    "        \n",
    "        if key == \"04-profit\":\n",
    "            report[item][key] = revenue - cogs\n",
    "        else:\n",
    "            continue "
   ]
  },
  {
   "cell_type": "code",
   "execution_count": 68,
   "metadata": {},
   "outputs": [],
   "source": [
    "output_path = Path(\"PyRamen.txt\")\n",
    "\n",
    "with open(output_path, 'w') as file:\n",
    "    file.write(\"This is the financial report for PyRamen.\\n\")\n",
    "    \n",
    "    for key in report:\n",
    "        file.write(f\"{key} {report[key]} \\n\")"
   ]
  }
 ],
 "metadata": {
  "kernelspec": {
   "display_name": "Python 3",
   "language": "python",
   "name": "python3"
  },
  "language_info": {
   "codemirror_mode": {
    "name": "ipython",
    "version": 3
   },
   "file_extension": ".py",
   "mimetype": "text/x-python",
   "name": "python",
   "nbconvert_exporter": "python",
   "pygments_lexer": "ipython3",
   "version": "3.7.6"
  }
 },
 "nbformat": 4,
 "nbformat_minor": 4
}

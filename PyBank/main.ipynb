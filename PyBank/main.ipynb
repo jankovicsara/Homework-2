{
 "cells": [
  {
   "cell_type": "code",
   "execution_count": 159,
   "metadata": {},
   "outputs": [],
   "source": [
    "# Import libraries. \n",
    "\n",
    "from pathlib import Path\n",
    "import pandas as pd\n",
    "import csv\n",
    "PyBank_csv = Path(\"budget_data.csv\")"
   ]
  },
  {
   "cell_type": "code",
   "execution_count": 160,
   "metadata": {},
   "outputs": [
    {
     "data": {
      "text/plain": [
       "'C:\\\\Users\\\\12242\\\\PyBank'"
      ]
     },
     "execution_count": 160,
     "metadata": {},
     "output_type": "execute_result"
    }
   ],
   "source": [
    "#Find the path. \n",
    "\n",
    "import os\n",
    "os.getcwd()"
   ]
  },
  {
   "cell_type": "code",
   "execution_count": 161,
   "metadata": {},
   "outputs": [
    {
     "data": {
      "text/plain": [
       "['.ipynb_checkpoints', 'budget_data.csv', 'main.ipynb', 'output.txt']"
      ]
     },
     "execution_count": 161,
     "metadata": {},
     "output_type": "execute_result"
    }
   ],
   "source": [
    "os.listdir(os.getcwd())"
   ]
  },
  {
   "cell_type": "code",
   "execution_count": 162,
   "metadata": {},
   "outputs": [],
   "source": [
    "#Import csv file and define it. \n",
    "\n",
    "file_path = Path(\"C://Users//12242/PyBank/budget_data.csv\")\n",
    "budget_data = pd.read_csv(file_path)"
   ]
  },
  {
   "cell_type": "code",
   "execution_count": 163,
   "metadata": {},
   "outputs": [],
   "source": [
    "#Create a dictionary with the dates. \n",
    "\n",
    "dates = budget_data['Date']\n",
    "PnL = budget_data['Profit/Losses']\n",
    "total_info = dict(zip(dates, PnL))"
   ]
  },
  {
   "cell_type": "code",
   "execution_count": 164,
   "metadata": {},
   "outputs": [],
   "source": [
    "# Initialize the variables.\n",
    "\n",
    "number_months = 0\n",
    "net_total_pnl = 0\n",
    "avg_chng_pnl = 0\n",
    "maximum = 0\n",
    "minimum = 0\n",
    "max_date = []\n",
    "min_date = []"
   ]
  },
  {
   "cell_type": "code",
   "execution_count": 165,
   "metadata": {},
   "outputs": [],
   "source": [
    "number_months = len(PnL)"
   ]
  },
  {
   "cell_type": "code",
   "execution_count": 166,
   "metadata": {},
   "outputs": [],
   "source": [
    "for i in PnL:\n",
    "    net_total_pnl = net_total_pnl + i"
   ]
  },
  {
   "cell_type": "code",
   "execution_count": 167,
   "metadata": {},
   "outputs": [],
   "source": [
    "avg_chng_pnl = round(net_total_pnl / number_months , 2)"
   ]
  },
  {
   "cell_type": "code",
   "execution_count": 168,
   "metadata": {},
   "outputs": [],
   "source": [
    "maximum = PnL.max()\n",
    "minimum = PnL.min()"
   ]
  },
  {
   "cell_type": "code",
   "execution_count": 169,
   "metadata": {},
   "outputs": [],
   "source": [
    "max_date = list(total_info.keys())[list(total_info.values()).index(1170593)]\n",
    "min_date = list(total_info.keys())[list(total_info.values()).index(-1196225)]"
   ]
  },
  {
   "cell_type": "code",
   "execution_count": 170,
   "metadata": {},
   "outputs": [],
   "source": [
    "#Set output file name.\n",
    "\n",
    "output_path = 'output.txt'"
   ]
  },
  {
   "cell_type": "code",
   "execution_count": 171,
   "metadata": {},
   "outputs": [],
   "source": [
    "#Open the output path as a file.\n",
    "\n",
    "with open(output_path, 'w') as file:\n",
    "    \n",
    "    \n",
    "    file.write(f\"Financial Analysis\\n\")\n",
    "    file.write(f\"------------------------------- \\n\")\n",
    "    file.write(f\"Total Months: {number_months} \\n\")\n",
    "    file.write(f\"Total: {net_total_pnl}\\n\")\n",
    "    file.write(f\"Average Change : ${avg_chng_pnl} \\n\")\n",
    "    file.write(f\"Greatest Increase in Profits {max_date} , {maximum} \\n \")\n",
    "    file.write(f\"Greatest Decrease in Profits {min_date} , {minimum} \\n\")"
   ]
  }
 ],
 "metadata": {
  "kernelspec": {
   "display_name": "Python 3",
   "language": "python",
   "name": "python3"
  },
  "language_info": {
   "codemirror_mode": {
    "name": "ipython",
    "version": 3
   },
   "file_extension": ".py",
   "mimetype": "text/x-python",
   "name": "python",
   "nbconvert_exporter": "python",
   "pygments_lexer": "ipython3",
   "version": "3.7.6"
  }
 },
 "nbformat": 4,
 "nbformat_minor": 4
}
